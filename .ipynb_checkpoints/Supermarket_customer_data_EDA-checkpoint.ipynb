{
 "cells": [
  {
   "cell_type": "markdown",
   "id": "f7134bfc",
   "metadata": {},
   "source": [
    "# Import libraries"
   ]
  },
  {
   "cell_type": "code",
   "execution_count": null,
   "id": "7e8a2d8c",
   "metadata": {},
   "outputs": [],
   "source": [
    "import pandas as pd\n",
    "import numpy as np\n",
    "import matplotlib.pyplot as plt\n",
    "import seaborn as sns"
   ]
  },
  {
   "cell_type": "markdown",
   "id": "8f04549e",
   "metadata": {},
   "source": [
    "# loading the .csv files"
   ]
  },
  {
   "cell_type": "code",
   "execution_count": null,
   "id": "82e8660a",
   "metadata": {},
   "outputs": [],
   "source": [
    "monday = pd.read_csv('./datasets/monday.csv', sep=';',parse_dates=['timestamp'])\n",
    "monday.head()"
   ]
  },
  {
   "cell_type": "code",
   "execution_count": null,
   "id": "7d232d97",
   "metadata": {},
   "outputs": [],
   "source": [
    "monday.info()"
   ]
  },
  {
   "cell_type": "code",
   "execution_count": null,
   "id": "0a77331c",
   "metadata": {},
   "outputs": [],
   "source": [
    "monday.describe()"
   ]
  },
  {
   "cell_type": "code",
   "execution_count": null,
   "id": "01760586",
   "metadata": {},
   "outputs": [],
   "source": [
    "monday.shape                                               # shape of the dataset"
   ]
  },
  {
   "cell_type": "code",
   "execution_count": null,
   "id": "99629b2c",
   "metadata": {},
   "outputs": [],
   "source": [
    "nan_percentage = monday.isnull().sum()/monday.shape[0]*100\n",
    "nan_percentage                                              # extracting what percent of the data contains null val"
   ]
  },
  {
   "cell_type": "markdown",
   "id": "790b4ffe",
   "metadata": {},
   "source": [
    "### from the above tabel we see no null values in the dataset 'monday'"
   ]
  },
  {
   "cell_type": "markdown",
   "id": "072a512a",
   "metadata": {},
   "source": [
    "### Calculating total number of customers in each section "
   ]
  },
  {
   "cell_type": "code",
   "execution_count": null,
   "id": "dc3e27c2",
   "metadata": {},
   "outputs": [],
   "source": [
    "section_gby = monday.groupby(by=['location'])['customer_no'].count()\n",
    "section_gby"
   ]
  },
  {
   "cell_type": "markdown",
   "id": "edfa5fbf",
   "metadata": {},
   "source": [
    "### Calculating total number of customers in each section overtime\n",
    "\n",
    "### create hourley col and groupby customers in different section of the supermarket"
   ]
  },
  {
   "cell_type": "code",
   "execution_count": null,
   "id": "b6fe0b50",
   "metadata": {},
   "outputs": [],
   "source": [
    "monday['hour'] = monday['timestamp'].dt.hour        # creating an hour col \n",
    "monday.head(30)"
   ]
  },
  {
   "cell_type": "code",
   "execution_count": null,
   "id": "d777f45f",
   "metadata": {},
   "outputs": [],
   "source": [
    "monday.head(20)\n"
   ]
  },
  {
   "cell_type": "code",
   "execution_count": null,
   "id": "4db74432",
   "metadata": {},
   "outputs": [],
   "source": [
    "#monday['new_customer_ID'] = monday['customer_no'].astype(str)+'m'"
   ]
  },
  {
   "cell_type": "code",
   "execution_count": null,
   "id": "9a872466",
   "metadata": {},
   "outputs": [],
   "source": [
    "#monday.tail()"
   ]
  },
  {
   "cell_type": "markdown",
   "id": "b187ab7c",
   "metadata": {},
   "source": [
    "### groupby hour and location and extracting customer count"
   ]
  },
  {
   "cell_type": "code",
   "execution_count": null,
   "id": "ef4e0336",
   "metadata": {},
   "outputs": [],
   "source": [
    "hourley_gby = monday.groupby(by=['hour','location'])['customer_no'].count()  #we get multiindex output\n",
    "hourley_gby"
   ]
  },
  {
   "cell_type": "code",
   "execution_count": null,
   "id": "cc16b2aa",
   "metadata": {},
   "outputs": [],
   "source": [
    "hourley_gby = hourley_gby.reset_index()     # index resetting"
   ]
  },
  {
   "cell_type": "code",
   "execution_count": null,
   "id": "f36d04b6",
   "metadata": {},
   "outputs": [],
   "source": [
    "hourley_gby"
   ]
  },
  {
   "cell_type": "markdown",
   "id": "1c630fe2",
   "metadata": {},
   "source": [
    "### plot of total cusomters per section in the supermarket"
   ]
  },
  {
   "cell_type": "code",
   "execution_count": null,
   "id": "5030b74e",
   "metadata": {},
   "outputs": [],
   "source": [
    "plt = sns.catplot(data = hourley_gby, kind= 'bar', x  = 'location', y = 'customer_no')"
   ]
  },
  {
   "cell_type": "markdown",
   "id": "371de3b1",
   "metadata": {},
   "source": [
    "### total cusomter in the supermarket over time"
   ]
  },
  {
   "cell_type": "code",
   "execution_count": null,
   "id": "1f92cce7",
   "metadata": {},
   "outputs": [],
   "source": [
    "sns.lineplot(data = hourley_gby, x  = 'hour', y = 'customer_no' )"
   ]
  },
  {
   "cell_type": "markdown",
   "id": "203b16ef",
   "metadata": {},
   "source": [
    "### clearly seen in the above plot that around 8 AM , 1PM and around 6PM there is a peak in the custoemr traffic in the supermarket"
   ]
  },
  {
   "cell_type": "markdown",
   "id": "a665d8ed",
   "metadata": {},
   "source": [
    "# Calculate the total numbers of customers in each section over time"
   ]
  },
  {
   "cell_type": "code",
   "execution_count": null,
   "id": "2138d6ee",
   "metadata": {},
   "outputs": [],
   "source": [
    "location_gby = hourley_gby.groupby(by = ['location','hour']).mean()\n",
    "location_gby"
   ]
  },
  {
   "cell_type": "code",
   "execution_count": null,
   "id": "77f0de91",
   "metadata": {},
   "outputs": [],
   "source": [
    "location_gby = location_gby.reset_index()\n",
    "location_gby"
   ]
  },
  {
   "cell_type": "code",
   "execution_count": null,
   "id": "4242d9e5",
   "metadata": {},
   "outputs": [],
   "source": [
    "location_group = location_gby.copy()"
   ]
  },
  {
   "cell_type": "code",
   "execution_count": null,
   "id": "6375d800",
   "metadata": {},
   "outputs": [],
   "source": [
    "location_group"
   ]
  },
  {
   "cell_type": "code",
   "execution_count": null,
   "id": "c7d70d3b",
   "metadata": {},
   "outputs": [],
   "source": [
    "\n",
    "labels = ['checkout','dairy','drinks','fruits','spices']\n",
    "\n",
    "for lab in labels:\n",
    "    loc = location_gby[location_gby['location'] =='%s'% lab]\n",
    "    plot = sns.lineplot(loc['hour'],loc['customer_no'], label='at %s' % lab)\n",
    "    \n",
    "plot.set(ylim=(0, 200))"
   ]
  },
  {
   "cell_type": "markdown",
   "id": "5a0ba8d9",
   "metadata": {},
   "source": [
    "# Displaying number of customers at checkout overtime"
   ]
  },
  {
   "cell_type": "code",
   "execution_count": null,
   "id": "663c01ba",
   "metadata": {},
   "outputs": [],
   "source": [
    "checkout  =location_gby[location_gby['location'] =='checkout']\n",
    "\n",
    "sns.lineplot(checkout['hour'],checkout['customer_no'], label= 'checkout')\n",
    "\n",
    "print(checkout)"
   ]
  },
  {
   "cell_type": "markdown",
   "id": "3ad07e07",
   "metadata": {},
   "source": [
    "# Calculate the time each customer spent in the market"
   ]
  },
  {
   "cell_type": "code",
   "execution_count": null,
   "id": "a4fb26b0",
   "metadata": {},
   "outputs": [],
   "source": [
    "monday['min'] = monday['timestamp'].dt.minute"
   ]
  },
  {
   "cell_type": "code",
   "execution_count": null,
   "id": "b1146ed7",
   "metadata": {},
   "outputs": [],
   "source": [
    "monday.head(10)"
   ]
  },
  {
   "cell_type": "code",
   "execution_count": null,
   "id": "7ef72f92",
   "metadata": {},
   "outputs": [],
   "source": [
    "monday['ab_min'] = monday['hour'] *60 + monday['min']\n",
    "monday.head(20)"
   ]
  },
  {
   "cell_type": "code",
   "execution_count": null,
   "id": "4b6ed81e",
   "metadata": {},
   "outputs": [],
   "source": [
    "#customer_by = monday.groupby(by=['customer_no'])['ab_min'].transform(lambda x: x.max() - x.min())"
   ]
  },
  {
   "cell_type": "code",
   "execution_count": null,
   "id": "127bc074",
   "metadata": {},
   "outputs": [],
   "source": [
    "customer_by_apply = monday.groupby(by=['customer_no'])['ab_min'].apply(lambda x: x.max() - x.min())"
   ]
  },
  {
   "cell_type": "code",
   "execution_count": null,
   "id": "0d939256",
   "metadata": {},
   "outputs": [],
   "source": [
    "customer_by_apply"
   ]
  },
  {
   "cell_type": "code",
   "execution_count": null,
   "id": "2b2991d0",
   "metadata": {},
   "outputs": [],
   "source": [
    "customer_by = pd.DataFrame(customer_by_apply)\n",
    "customer_by.reset_index(inplace=True)\n",
    "pd.set_option('display.max_rows',customer_by.shape[0]+1)\n",
    "#customer_by.head(5)"
   ]
  },
  {
   "cell_type": "code",
   "execution_count": null,
   "id": "601575cc",
   "metadata": {},
   "outputs": [],
   "source": [
    "customer_by"
   ]
  },
  {
   "cell_type": "code",
   "execution_count": null,
   "id": "749ab986",
   "metadata": {},
   "outputs": [],
   "source": [
    "sns.set_theme(style=\"whitegrid\")\n",
    "g = sns.lineplot(data = customer_by, x = 'customer_no', y = 'ab_min')"
   ]
  },
  {
   "cell_type": "code",
   "execution_count": null,
   "id": "80c4ff68",
   "metadata": {},
   "outputs": [],
   "source": []
  },
  {
   "cell_type": "code",
   "execution_count": null,
   "id": "c98b54ef",
   "metadata": {},
   "outputs": [],
   "source": []
  },
  {
   "cell_type": "code",
   "execution_count": null,
   "id": "61b9388e",
   "metadata": {},
   "outputs": [],
   "source": []
  },
  {
   "cell_type": "code",
   "execution_count": null,
   "id": "6b54b5ac",
   "metadata": {},
   "outputs": [],
   "source": []
  }
 ],
 "metadata": {
  "kernelspec": {
   "display_name": "Python 3 (ipykernel)",
   "language": "python",
   "name": "python3"
  },
  "language_info": {
   "codemirror_mode": {
    "name": "ipython",
    "version": 3
   },
   "file_extension": ".py",
   "mimetype": "text/x-python",
   "name": "python",
   "nbconvert_exporter": "python",
   "pygments_lexer": "ipython3",
   "version": "3.9.7"
  },
  "toc": {
   "base_numbering": 1,
   "nav_menu": {},
   "number_sections": true,
   "sideBar": true,
   "skip_h1_title": false,
   "title_cell": "Table of Contents",
   "title_sidebar": "Contents",
   "toc_cell": false,
   "toc_position": {
    "height": "calc(100% - 180px)",
    "left": "10px",
    "top": "150px",
    "width": "165px"
   },
   "toc_section_display": true,
   "toc_window_display": true
  }
 },
 "nbformat": 4,
 "nbformat_minor": 5
}
