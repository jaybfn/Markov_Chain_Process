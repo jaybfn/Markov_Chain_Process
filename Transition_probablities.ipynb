{
 "cells": [
  {
   "cell_type": "markdown",
   "id": "92ed960b",
   "metadata": {},
   "source": [
    "# Importing Libraries"
   ]
  },
  {
   "cell_type": "code",
   "execution_count": 1,
   "id": "17061351",
   "metadata": {},
   "outputs": [],
   "source": [
    "\"\"\"This code simulates customers in Super Market\"\"\"\n",
    "from datetime import datetime\n",
    "from datetime import timedelta\n",
    "from random import randrange\n",
    "import pandas as pd\n",
    "import numpy as np\n",
    "import names"
   ]
  },
  {
   "cell_type": "markdown",
   "id": "df469578",
   "metadata": {},
   "source": [
    "# load datasets"
   ]
  },
  {
   "cell_type": "code",
   "execution_count": 2,
   "id": "83daa5e9",
   "metadata": {},
   "outputs": [
    {
     "data": {
      "text/html": [
       "<div>\n",
       "<style scoped>\n",
       "    .dataframe tbody tr th:only-of-type {\n",
       "        vertical-align: middle;\n",
       "    }\n",
       "\n",
       "    .dataframe tbody tr th {\n",
       "        vertical-align: top;\n",
       "    }\n",
       "\n",
       "    .dataframe thead th {\n",
       "        text-align: right;\n",
       "    }\n",
       "</style>\n",
       "<table border=\"1\" class=\"dataframe\">\n",
       "  <thead>\n",
       "    <tr style=\"text-align: right;\">\n",
       "      <th></th>\n",
       "      <th>timestamp</th>\n",
       "      <th>customer_no</th>\n",
       "      <th>location</th>\n",
       "    </tr>\n",
       "  </thead>\n",
       "  <tbody>\n",
       "    <tr>\n",
       "      <th>0</th>\n",
       "      <td>2019-09-02 07:03:00</td>\n",
       "      <td>1</td>\n",
       "      <td>dairy</td>\n",
       "    </tr>\n",
       "    <tr>\n",
       "      <th>1</th>\n",
       "      <td>2019-09-02 07:03:00</td>\n",
       "      <td>2</td>\n",
       "      <td>dairy</td>\n",
       "    </tr>\n",
       "    <tr>\n",
       "      <th>2</th>\n",
       "      <td>2019-09-02 07:04:00</td>\n",
       "      <td>3</td>\n",
       "      <td>dairy</td>\n",
       "    </tr>\n",
       "    <tr>\n",
       "      <th>3</th>\n",
       "      <td>2019-09-02 07:04:00</td>\n",
       "      <td>4</td>\n",
       "      <td>dairy</td>\n",
       "    </tr>\n",
       "    <tr>\n",
       "      <th>4</th>\n",
       "      <td>2019-09-02 07:04:00</td>\n",
       "      <td>5</td>\n",
       "      <td>spices</td>\n",
       "    </tr>\n",
       "  </tbody>\n",
       "</table>\n",
       "</div>"
      ],
      "text/plain": [
       "             timestamp  customer_no location\n",
       "0  2019-09-02 07:03:00            1    dairy\n",
       "1  2019-09-02 07:03:00            2    dairy\n",
       "2  2019-09-02 07:04:00            3    dairy\n",
       "3  2019-09-02 07:04:00            4    dairy\n",
       "4  2019-09-02 07:04:00            5   spices"
      ]
     },
     "execution_count": 2,
     "metadata": {},
     "output_type": "execute_result"
    }
   ],
   "source": [
    "monday = pd.read_csv('./datasets/monday.csv', sep=';')\n",
    "monday.head()"
   ]
  },
  {
   "cell_type": "markdown",
   "id": "1b823651",
   "metadata": {},
   "source": [
    "# define Class and functions"
   ]
  },
  {
   "cell_type": "code",
   "execution_count": 3,
   "id": "0d86aad3",
   "metadata": {},
   "outputs": [],
   "source": [
    "#########################################################################################################################\n",
    "def possible_states(initial_state):\n",
    "    \"\"\"This function generates n possible states for a customer in supermarket\"\"\"\n",
    "    print(initial_state)\n",
    "    current_state = [initial_state]\n",
    "    n_state = 200\n",
    "    for i in range(n_state):\n",
    "        next_state = np.random.choice(list(transition_probabilities(monday).columns.values), p =list(transition_probabilities(monday).loc[initial_states()].values) )\n",
    "        current_state.append(next_state)\n",
    "        if next_state == 'checkout':\n",
    "            return current_state\n",
    "            break\n",
    "###########################################################################################################################\n",
    "def transition_probabilities(dataframe):\n",
    "    \"\"\"Generates trnasition porbablities for the supermarket data\"\"\"\n",
    "    dataframe['after'] = dataframe.groupby(by = ['customer_no'])['location'].shift(-1)\n",
    "    dataframe['after'].fillna('checkout', inplace=True)\n",
    "    crosstab = pd.crosstab(dataframe['location'],dataframe['after'], normalize=0) \n",
    "    return crosstab\n",
    "\n",
    "def initial_states():\n",
    "    \"\"\"this generates initial state of a customer in the supermarket\"\"\"\n",
    "    #np.random.seed(250)\n",
    "    state = ['dairy','drinks','spices','fruit']\n",
    "    initial_state = np.random.choice(state)\n",
    "    return initial_state\n",
    "\n",
    "def random_time_generator(start_time):\n",
    "    \"\"\"This function generates time randomly within a given range\"\"\"\n",
    "    current_time = start_time + timedelta(hours = randrange(13),minutes = randrange(60))\n",
    "    return current_time\n",
    "\n",
    "def rand_time_in_min():\n",
    "    \"\"\"This function generates time in seconds randomly\"\"\"\n",
    "    return randrange(2,4)\n",
    "\n",
    "def fake_names():\n",
    "    \"\"\"This function generates fake\n",
    "    name from python names library\"\"\"\n",
    "    customer_name = []\n",
    "    for i in range(1500):\n",
    "        customer_name.append(names.get_first_name())\n",
    "    return customer_name\n",
    "\n",
    "class Customer:\n",
    "    \"\"\"Its customer class which check if the customer is in the markert \n",
    "    or checkedoutout\"\"\"\n",
    "    def __init__(self, dataframe, transition_probabilities):\n",
    "        self.current_location = initial_states()\n",
    "        self.dataframe = dataframe\n",
    "        self.transition_probabilities = transition_probabilities\n",
    "        \n",
    "    def __repr__(self):\n",
    "        \"\"\"Return\"\"\"\n",
    "        return f'The customer was at {self.initial_state}'\n",
    "\n",
    "    def next_states(self):\n",
    "        \"\"\"Navigates the customer to the next state\n",
    "        using a weighted random choice from the transition probabilities\n",
    "        conditional on the current state.\"\"\"\n",
    "        self.current_location = np.random.choice(\n",
    "            list(self.transition_probabilities(self.dataframe).columns.values), \n",
    "            p =list(self.transition_probabilities(self.dataframe)\n",
    "            .loc[self.current_location].values) )\n",
    "        #return self.nxt_state\n",
    "    \n",
    "    def is_active(self):\n",
    "        \"\"\"Returns a statement depending if the customer is in the \n",
    "        supermarket or checkedout\"\"\"\n",
    "        if self.current_location != 'checkout':\n",
    "            return True\n",
    "        else:\n",
    "            return False"
   ]
  },
  {
   "cell_type": "markdown",
   "id": "d808f279",
   "metadata": {},
   "source": [
    "# MC-Simulation"
   ]
  },
  {
   "cell_type": "code",
   "execution_count": 4,
   "id": "840def36",
   "metadata": {},
   "outputs": [],
   "source": [
    "T_STEP = 0\n",
    "sudo_market = pd.DataFrame()\n",
    "for name in fake_names():\n",
    "    current_customer  = Customer(monday,transition_probabilities)\n",
    "    entry_time = random_time_generator(datetime(2022, 1, 29,7,00,00))\n",
    "    customer_nav = {'customer_no': name,\n",
    "                    'section': current_customer.current_location,\n",
    "                    'time':entry_time}\n",
    "    sudo_market = sudo_market.append(customer_nav, ignore_index = True)\n",
    "    #print(f'{customer_name}  is at {current_customer.current_location} section')\n",
    "    while True:\n",
    "        current_customer.next_states()\n",
    "        T_STEP += 1\n",
    "        next_time = entry_time + timedelta(minutes=T_STEP)\n",
    "        next_time = next_time.strftime('%Y-%m-%d %H:%M:%S')\n",
    "        #print(next_time)\n",
    "        if current_customer.is_active():\n",
    "            #print(f'{customer_name}  is at {current_customer.current_location} section')\n",
    "            customer_nav = {'customer_no': name,\n",
    "                            'section': current_customer.current_location, \n",
    "                            'time':next_time}\n",
    "            sudo_market = sudo_market.append(customer_nav, ignore_index = True)\n",
    "        else:\n",
    "            #print(f'{customer_name}  is at {current_customer.current_location} section')\n",
    "            customer_nav = {'customer_no': name,\n",
    "                            'section': current_customer.current_location,\n",
    "                            'time':next_time}\n",
    "            sudo_market = sudo_market.append(customer_nav, ignore_index = True)\n",
    "            T_STEP = 0\n",
    "            break"
   ]
  },
  {
   "cell_type": "markdown",
   "id": "3566037a",
   "metadata": {},
   "source": [
    "# Basic Visualization of Synthetic data generated from transition probablity"
   ]
  },
  {
   "cell_type": "markdown",
   "id": "3cd01d07",
   "metadata": {},
   "source": [
    "## Checking the dataframe"
   ]
  },
  {
   "cell_type": "code",
   "execution_count": 5,
   "id": "cbc8dab0",
   "metadata": {},
   "outputs": [
    {
     "data": {
      "text/html": [
       "<div>\n",
       "<style scoped>\n",
       "    .dataframe tbody tr th:only-of-type {\n",
       "        vertical-align: middle;\n",
       "    }\n",
       "\n",
       "    .dataframe tbody tr th {\n",
       "        vertical-align: top;\n",
       "    }\n",
       "\n",
       "    .dataframe thead th {\n",
       "        text-align: right;\n",
       "    }\n",
       "</style>\n",
       "<table border=\"1\" class=\"dataframe\">\n",
       "  <thead>\n",
       "    <tr style=\"text-align: right;\">\n",
       "      <th></th>\n",
       "      <th>customer_no</th>\n",
       "      <th>section</th>\n",
       "      <th>time</th>\n",
       "    </tr>\n",
       "  </thead>\n",
       "  <tbody>\n",
       "    <tr>\n",
       "      <th>0</th>\n",
       "      <td>Steven</td>\n",
       "      <td>dairy</td>\n",
       "      <td>2022-01-29 18:08:00</td>\n",
       "    </tr>\n",
       "    <tr>\n",
       "      <th>1</th>\n",
       "      <td>Steven</td>\n",
       "      <td>fruit</td>\n",
       "      <td>2022-01-29 18:09:00</td>\n",
       "    </tr>\n",
       "    <tr>\n",
       "      <th>2</th>\n",
       "      <td>Steven</td>\n",
       "      <td>dairy</td>\n",
       "      <td>2022-01-29 18:10:00</td>\n",
       "    </tr>\n",
       "    <tr>\n",
       "      <th>3</th>\n",
       "      <td>Steven</td>\n",
       "      <td>checkout</td>\n",
       "      <td>2022-01-29 18:11:00</td>\n",
       "    </tr>\n",
       "    <tr>\n",
       "      <th>4</th>\n",
       "      <td>Elva</td>\n",
       "      <td>dairy</td>\n",
       "      <td>2022-01-29 17:17:00</td>\n",
       "    </tr>\n",
       "    <tr>\n",
       "      <th>5</th>\n",
       "      <td>Elva</td>\n",
       "      <td>checkout</td>\n",
       "      <td>2022-01-29 17:18:00</td>\n",
       "    </tr>\n",
       "    <tr>\n",
       "      <th>6</th>\n",
       "      <td>Sarah</td>\n",
       "      <td>drinks</td>\n",
       "      <td>2022-01-29 12:28:00</td>\n",
       "    </tr>\n",
       "    <tr>\n",
       "      <th>7</th>\n",
       "      <td>Sarah</td>\n",
       "      <td>spices</td>\n",
       "      <td>2022-01-29 12:29:00</td>\n",
       "    </tr>\n",
       "    <tr>\n",
       "      <th>8</th>\n",
       "      <td>Sarah</td>\n",
       "      <td>dairy</td>\n",
       "      <td>2022-01-29 12:30:00</td>\n",
       "    </tr>\n",
       "    <tr>\n",
       "      <th>9</th>\n",
       "      <td>Sarah</td>\n",
       "      <td>checkout</td>\n",
       "      <td>2022-01-29 12:31:00</td>\n",
       "    </tr>\n",
       "    <tr>\n",
       "      <th>10</th>\n",
       "      <td>James</td>\n",
       "      <td>fruit</td>\n",
       "      <td>2022-01-29 16:19:00</td>\n",
       "    </tr>\n",
       "    <tr>\n",
       "      <th>11</th>\n",
       "      <td>James</td>\n",
       "      <td>checkout</td>\n",
       "      <td>2022-01-29 16:20:00</td>\n",
       "    </tr>\n",
       "    <tr>\n",
       "      <th>12</th>\n",
       "      <td>Alfred</td>\n",
       "      <td>fruit</td>\n",
       "      <td>2022-01-29 18:43:00</td>\n",
       "    </tr>\n",
       "    <tr>\n",
       "      <th>13</th>\n",
       "      <td>Alfred</td>\n",
       "      <td>checkout</td>\n",
       "      <td>2022-01-29 18:44:00</td>\n",
       "    </tr>\n",
       "    <tr>\n",
       "      <th>14</th>\n",
       "      <td>Amanda</td>\n",
       "      <td>spices</td>\n",
       "      <td>2022-01-29 16:24:00</td>\n",
       "    </tr>\n",
       "    <tr>\n",
       "      <th>15</th>\n",
       "      <td>Amanda</td>\n",
       "      <td>dairy</td>\n",
       "      <td>2022-01-29 16:25:00</td>\n",
       "    </tr>\n",
       "    <tr>\n",
       "      <th>16</th>\n",
       "      <td>Amanda</td>\n",
       "      <td>fruit</td>\n",
       "      <td>2022-01-29 16:26:00</td>\n",
       "    </tr>\n",
       "    <tr>\n",
       "      <th>17</th>\n",
       "      <td>Amanda</td>\n",
       "      <td>dairy</td>\n",
       "      <td>2022-01-29 16:27:00</td>\n",
       "    </tr>\n",
       "    <tr>\n",
       "      <th>18</th>\n",
       "      <td>Amanda</td>\n",
       "      <td>fruit</td>\n",
       "      <td>2022-01-29 16:28:00</td>\n",
       "    </tr>\n",
       "    <tr>\n",
       "      <th>19</th>\n",
       "      <td>Amanda</td>\n",
       "      <td>drinks</td>\n",
       "      <td>2022-01-29 16:29:00</td>\n",
       "    </tr>\n",
       "  </tbody>\n",
       "</table>\n",
       "</div>"
      ],
      "text/plain": [
       "   customer_no   section                 time\n",
       "0       Steven     dairy  2022-01-29 18:08:00\n",
       "1       Steven     fruit  2022-01-29 18:09:00\n",
       "2       Steven     dairy  2022-01-29 18:10:00\n",
       "3       Steven  checkout  2022-01-29 18:11:00\n",
       "4         Elva     dairy  2022-01-29 17:17:00\n",
       "5         Elva  checkout  2022-01-29 17:18:00\n",
       "6        Sarah    drinks  2022-01-29 12:28:00\n",
       "7        Sarah    spices  2022-01-29 12:29:00\n",
       "8        Sarah     dairy  2022-01-29 12:30:00\n",
       "9        Sarah  checkout  2022-01-29 12:31:00\n",
       "10       James     fruit  2022-01-29 16:19:00\n",
       "11       James  checkout  2022-01-29 16:20:00\n",
       "12      Alfred     fruit  2022-01-29 18:43:00\n",
       "13      Alfred  checkout  2022-01-29 18:44:00\n",
       "14      Amanda    spices  2022-01-29 16:24:00\n",
       "15      Amanda     dairy  2022-01-29 16:25:00\n",
       "16      Amanda     fruit  2022-01-29 16:26:00\n",
       "17      Amanda     dairy  2022-01-29 16:27:00\n",
       "18      Amanda     fruit  2022-01-29 16:28:00\n",
       "19      Amanda    drinks  2022-01-29 16:29:00"
      ]
     },
     "execution_count": 5,
     "metadata": {},
     "output_type": "execute_result"
    }
   ],
   "source": [
    "sudo_market.head(20)"
   ]
  },
  {
   "cell_type": "markdown",
   "id": "314f342b",
   "metadata": {},
   "source": [
    "## .info on the df sudosupermarket"
   ]
  },
  {
   "cell_type": "code",
   "execution_count": 37,
   "id": "53f9265c",
   "metadata": {},
   "outputs": [
    {
     "name": "stdout",
     "output_type": "stream",
     "text": [
      "<class 'pandas.core.frame.DataFrame'>\n",
      "RangeIndex: 5102 entries, 0 to 5101\n",
      "Data columns (total 3 columns):\n",
      " #   Column       Non-Null Count  Dtype \n",
      "---  ------       --------------  ----- \n",
      " 0   customer_no  5102 non-null   object\n",
      " 1   section      5102 non-null   object\n",
      " 2   time         5102 non-null   object\n",
      "dtypes: object(3)\n",
      "memory usage: 119.7+ KB\n"
     ]
    }
   ],
   "source": [
    "sudo_market.info()"
   ]
  },
  {
   "cell_type": "markdown",
   "id": "ae622958",
   "metadata": {},
   "source": [
    "## checking null values in terms of percentage"
   ]
  },
  {
   "cell_type": "code",
   "execution_count": 38,
   "id": "3521f9aa",
   "metadata": {},
   "outputs": [
    {
     "data": {
      "text/plain": [
       "customer_no    0.0\n",
       "section        0.0\n",
       "time           0.0\n",
       "dtype: float64"
      ]
     },
     "execution_count": 38,
     "metadata": {},
     "output_type": "execute_result"
    }
   ],
   "source": [
    "nan_percentage = sudo_market.isnull().sum()/sudo_market.shape[0]*100\n",
    "nan_percentage"
   ]
  },
  {
   "cell_type": "markdown",
   "id": "ca366495",
   "metadata": {},
   "source": [
    "## grouping the data by 'section' and generating a count table with 'customer_no' in each section"
   ]
  },
  {
   "cell_type": "code",
   "execution_count": 39,
   "id": "81a9c428",
   "metadata": {},
   "outputs": [
    {
     "data": {
      "text/plain": [
       "section\n",
       "checkout    1500\n",
       "dairy        884\n",
       "drinks       949\n",
       "fruit        896\n",
       "spices       873\n",
       "Name: customer_no, dtype: int64"
      ]
     },
     "execution_count": 39,
     "metadata": {},
     "output_type": "execute_result"
    }
   ],
   "source": [
    "section_gby =sudo_market.groupby(by=['section'])['customer_no'].count()\n",
    "section_gby"
   ]
  },
  {
   "cell_type": "markdown",
   "id": "be5d6429",
   "metadata": {},
   "source": [
    "## coverting time object to datetime object and creating an hour feature"
   ]
  },
  {
   "cell_type": "code",
   "execution_count": 40,
   "id": "67b810d9",
   "metadata": {},
   "outputs": [
    {
     "data": {
      "text/plain": [
       "hour  section \n",
       "7     checkout    126\n",
       "      dairy        56\n",
       "      drinks       66\n",
       "      fruit        77\n",
       "      spices       64\n",
       "                 ... \n",
       "19    spices       82\n",
       "20    checkout      4\n",
       "      dairy         1\n",
       "      drinks        1\n",
       "      fruit         3\n",
       "Name: customer_no, Length: 69, dtype: int64"
      ]
     },
     "execution_count": 40,
     "metadata": {},
     "output_type": "execute_result"
    }
   ],
   "source": [
    "sudo_market['time'] = pd.to_datetime(sudo_market['time'])\n",
    "\n",
    "sudo_market['hour'] = sudo_market['time'].dt.hour \n",
    "\n",
    "hourley_gby = sudo_market.groupby(by=['hour','section'])['customer_no'].count()  #we get multiindex output\n",
    "hourley_gby"
   ]
  },
  {
   "cell_type": "code",
   "execution_count": 41,
   "id": "ace43b8e",
   "metadata": {},
   "outputs": [],
   "source": [
    "hourley_gby = hourley_gby.reset_index()    "
   ]
  },
  {
   "cell_type": "code",
   "execution_count": 42,
   "id": "c7d11c6f",
   "metadata": {},
   "outputs": [
    {
     "data": {
      "image/png": "[encoded data removed]",
      "text/plain": [
       "<Figure size 360x360 with 1 Axes>"
      ]
     },
     "metadata": {
      "needs_background": "light"
     },
     "output_type": "display_data"
    }
   ],
   "source": [
    "import seaborn as sns\n",
    "plt = sns.catplot(data = hourley_gby, kind= 'bar', x  = 'section', y = 'customer_no')"
   ]
  },
  {
   "cell_type": "code",
   "execution_count": 43,
   "id": "7a3f1825",
   "metadata": {},
   "outputs": [
    {
     "data": {
      "text/plain": [
       "<AxesSubplot:xlabel='hour', ylabel='customer_no'>"
      ]
     },
     "execution_count": 43,
     "metadata": {},
     "output_type": "execute_result"
    },
    {
     "data": {
      "image/png": "[encoded data removed]",
      "text/plain": [
       "<Figure size 432x288 with 1 Axes>"
      ]
     },
     "metadata": {
      "needs_background": "light"
     },
     "output_type": "display_data"
    }
   ],
   "source": [
    "sns.lineplot(data = hourley_gby, x  = 'hour', y = 'customer_no' )"
   ]
  },
  {
   "cell_type": "code",
   "execution_count": 44,
   "id": "528cbe49",
   "metadata": {},
   "outputs": [
    {
     "data": {
      "text/html": [
       "<div>\n",
       "<style scoped>\n",
       "    .dataframe tbody tr th:only-of-type {\n",
       "        vertical-align: middle;\n",
       "    }\n",
       "\n",
       "    .dataframe tbody tr th {\n",
       "        vertical-align: top;\n",
       "    }\n",
       "\n",
       "    .dataframe thead th {\n",
       "        text-align: right;\n",
       "    }\n",
       "</style>\n",
       "<table border=\"1\" class=\"dataframe\">\n",
       "  <thead>\n",
       "    <tr style=\"text-align: right;\">\n",
       "      <th></th>\n",
       "      <th></th>\n",
       "      <th>customer_no</th>\n",
       "    </tr>\n",
       "    <tr>\n",
       "      <th>section</th>\n",
       "      <th>hour</th>\n",
       "      <th></th>\n",
       "    </tr>\n",
       "  </thead>\n",
       "  <tbody>\n",
       "    <tr>\n",
       "      <th rowspan=\"5\" valign=\"top\">checkout</th>\n",
       "      <th>7</th>\n",
       "      <td>126.0</td>\n",
       "    </tr>\n",
       "    <tr>\n",
       "      <th>8</th>\n",
       "      <td>103.0</td>\n",
       "    </tr>\n",
       "    <tr>\n",
       "      <th>9</th>\n",
       "      <td>134.0</td>\n",
       "    </tr>\n",
       "    <tr>\n",
       "      <th>10</th>\n",
       "      <td>102.0</td>\n",
       "    </tr>\n",
       "    <tr>\n",
       "      <th>11</th>\n",
       "      <td>118.0</td>\n",
       "    </tr>\n",
       "    <tr>\n",
       "      <th>...</th>\n",
       "      <th>...</th>\n",
       "      <td>...</td>\n",
       "    </tr>\n",
       "    <tr>\n",
       "      <th rowspan=\"5\" valign=\"top\">spices</th>\n",
       "      <th>15</th>\n",
       "      <td>77.0</td>\n",
       "    </tr>\n",
       "    <tr>\n",
       "      <th>16</th>\n",
       "      <td>62.0</td>\n",
       "    </tr>\n",
       "    <tr>\n",
       "      <th>17</th>\n",
       "      <td>69.0</td>\n",
       "    </tr>\n",
       "    <tr>\n",
       "      <th>18</th>\n",
       "      <td>59.0</td>\n",
       "    </tr>\n",
       "    <tr>\n",
       "      <th>19</th>\n",
       "      <td>82.0</td>\n",
       "    </tr>\n",
       "  </tbody>\n",
       "</table>\n",
       "<p>69 rows × 1 columns</p>\n",
       "</div>"
      ],
      "text/plain": [
       "               customer_no\n",
       "section  hour             \n",
       "checkout 7           126.0\n",
       "         8           103.0\n",
       "         9           134.0\n",
       "         10          102.0\n",
       "         11          118.0\n",
       "...                    ...\n",
       "spices   15           77.0\n",
       "         16           62.0\n",
       "         17           69.0\n",
       "         18           59.0\n",
       "         19           82.0\n",
       "\n",
       "[69 rows x 1 columns]"
      ]
     },
     "execution_count": 44,
     "metadata": {},
     "output_type": "execute_result"
    }
   ],
   "source": [
    "location_gby = hourley_gby.groupby(by = ['section','hour']).mean()\n",
    "location_gby"
   ]
  },
  {
   "cell_type": "code",
   "execution_count": 45,
   "id": "5cae4677",
   "metadata": {},
   "outputs": [
    {
     "data": {
      "text/html": [
       "<div>\n",
       "<style scoped>\n",
       "    .dataframe tbody tr th:only-of-type {\n",
       "        vertical-align: middle;\n",
       "    }\n",
       "\n",
       "    .dataframe tbody tr th {\n",
       "        vertical-align: top;\n",
       "    }\n",
       "\n",
       "    .dataframe thead th {\n",
       "        text-align: right;\n",
       "    }\n",
       "</style>\n",
       "<table border=\"1\" class=\"dataframe\">\n",
       "  <thead>\n",
       "    <tr style=\"text-align: right;\">\n",
       "      <th></th>\n",
       "      <th>section</th>\n",
       "      <th>hour</th>\n",
       "      <th>customer_no</th>\n",
       "    </tr>\n",
       "  </thead>\n",
       "  <tbody>\n",
       "    <tr>\n",
       "      <th>0</th>\n",
       "      <td>checkout</td>\n",
       "      <td>7</td>\n",
       "      <td>126.0</td>\n",
       "    </tr>\n",
       "    <tr>\n",
       "      <th>1</th>\n",
       "      <td>checkout</td>\n",
       "      <td>8</td>\n",
       "      <td>103.0</td>\n",
       "    </tr>\n",
       "    <tr>\n",
       "      <th>2</th>\n",
       "      <td>checkout</td>\n",
       "      <td>9</td>\n",
       "      <td>134.0</td>\n",
       "    </tr>\n",
       "    <tr>\n",
       "      <th>3</th>\n",
       "      <td>checkout</td>\n",
       "      <td>10</td>\n",
       "      <td>102.0</td>\n",
       "    </tr>\n",
       "    <tr>\n",
       "      <th>4</th>\n",
       "      <td>checkout</td>\n",
       "      <td>11</td>\n",
       "      <td>118.0</td>\n",
       "    </tr>\n",
       "    <tr>\n",
       "      <th>...</th>\n",
       "      <td>...</td>\n",
       "      <td>...</td>\n",
       "      <td>...</td>\n",
       "    </tr>\n",
       "    <tr>\n",
       "      <th>64</th>\n",
       "      <td>spices</td>\n",
       "      <td>15</td>\n",
       "      <td>77.0</td>\n",
       "    </tr>\n",
       "    <tr>\n",
       "      <th>65</th>\n",
       "      <td>spices</td>\n",
       "      <td>16</td>\n",
       "      <td>62.0</td>\n",
       "    </tr>\n",
       "    <tr>\n",
       "      <th>66</th>\n",
       "      <td>spices</td>\n",
       "      <td>17</td>\n",
       "      <td>69.0</td>\n",
       "    </tr>\n",
       "    <tr>\n",
       "      <th>67</th>\n",
       "      <td>spices</td>\n",
       "      <td>18</td>\n",
       "      <td>59.0</td>\n",
       "    </tr>\n",
       "    <tr>\n",
       "      <th>68</th>\n",
       "      <td>spices</td>\n",
       "      <td>19</td>\n",
       "      <td>82.0</td>\n",
       "    </tr>\n",
       "  </tbody>\n",
       "</table>\n",
       "<p>69 rows × 3 columns</p>\n",
       "</div>"
      ],
      "text/plain": [
       "     section  hour  customer_no\n",
       "0   checkout     7        126.0\n",
       "1   checkout     8        103.0\n",
       "2   checkout     9        134.0\n",
       "3   checkout    10        102.0\n",
       "4   checkout    11        118.0\n",
       "..       ...   ...          ...\n",
       "64    spices    15         77.0\n",
       "65    spices    16         62.0\n",
       "66    spices    17         69.0\n",
       "67    spices    18         59.0\n",
       "68    spices    19         82.0\n",
       "\n",
       "[69 rows x 3 columns]"
      ]
     },
     "execution_count": 45,
     "metadata": {},
     "output_type": "execute_result"
    }
   ],
   "source": [
    "location_gby = location_gby.reset_index()\n",
    "location_gby"
   ]
  },
  {
   "cell_type": "code",
   "execution_count": 46,
   "id": "4c856142",
   "metadata": {},
   "outputs": [],
   "source": [
    "location_group = location_gby.copy()"
   ]
  },
  {
   "cell_type": "code",
   "execution_count": 47,
   "id": "679d1fb8",
   "metadata": {},
   "outputs": [
    {
     "data": {
      "text/html": [
       "<div>\n",
       "<style scoped>\n",
       "    .dataframe tbody tr th:only-of-type {\n",
       "        vertical-align: middle;\n",
       "    }\n",
       "\n",
       "    .dataframe tbody tr th {\n",
       "        vertical-align: top;\n",
       "    }\n",
       "\n",
       "    .dataframe thead th {\n",
       "        text-align: right;\n",
       "    }\n",
       "</style>\n",
       "<table border=\"1\" class=\"dataframe\">\n",
       "  <thead>\n",
       "    <tr style=\"text-align: right;\">\n",
       "      <th></th>\n",
       "      <th>section</th>\n",
       "      <th>hour</th>\n",
       "      <th>customer_no</th>\n",
       "    </tr>\n",
       "  </thead>\n",
       "  <tbody>\n",
       "    <tr>\n",
       "      <th>0</th>\n",
       "      <td>checkout</td>\n",
       "      <td>7</td>\n",
       "      <td>126.0</td>\n",
       "    </tr>\n",
       "    <tr>\n",
       "      <th>1</th>\n",
       "      <td>checkout</td>\n",
       "      <td>8</td>\n",
       "      <td>103.0</td>\n",
       "    </tr>\n",
       "    <tr>\n",
       "      <th>2</th>\n",
       "      <td>checkout</td>\n",
       "      <td>9</td>\n",
       "      <td>134.0</td>\n",
       "    </tr>\n",
       "    <tr>\n",
       "      <th>3</th>\n",
       "      <td>checkout</td>\n",
       "      <td>10</td>\n",
       "      <td>102.0</td>\n",
       "    </tr>\n",
       "    <tr>\n",
       "      <th>4</th>\n",
       "      <td>checkout</td>\n",
       "      <td>11</td>\n",
       "      <td>118.0</td>\n",
       "    </tr>\n",
       "    <tr>\n",
       "      <th>...</th>\n",
       "      <td>...</td>\n",
       "      <td>...</td>\n",
       "      <td>...</td>\n",
       "    </tr>\n",
       "    <tr>\n",
       "      <th>64</th>\n",
       "      <td>spices</td>\n",
       "      <td>15</td>\n",
       "      <td>77.0</td>\n",
       "    </tr>\n",
       "    <tr>\n",
       "      <th>65</th>\n",
       "      <td>spices</td>\n",
       "      <td>16</td>\n",
       "      <td>62.0</td>\n",
       "    </tr>\n",
       "    <tr>\n",
       "      <th>66</th>\n",
       "      <td>spices</td>\n",
       "      <td>17</td>\n",
       "      <td>69.0</td>\n",
       "    </tr>\n",
       "    <tr>\n",
       "      <th>67</th>\n",
       "      <td>spices</td>\n",
       "      <td>18</td>\n",
       "      <td>59.0</td>\n",
       "    </tr>\n",
       "    <tr>\n",
       "      <th>68</th>\n",
       "      <td>spices</td>\n",
       "      <td>19</td>\n",
       "      <td>82.0</td>\n",
       "    </tr>\n",
       "  </tbody>\n",
       "</table>\n",
       "<p>69 rows × 3 columns</p>\n",
       "</div>"
      ],
      "text/plain": [
       "     section  hour  customer_no\n",
       "0   checkout     7        126.0\n",
       "1   checkout     8        103.0\n",
       "2   checkout     9        134.0\n",
       "3   checkout    10        102.0\n",
       "4   checkout    11        118.0\n",
       "..       ...   ...          ...\n",
       "64    spices    15         77.0\n",
       "65    spices    16         62.0\n",
       "66    spices    17         69.0\n",
       "67    spices    18         59.0\n",
       "68    spices    19         82.0\n",
       "\n",
       "[69 rows x 3 columns]"
      ]
     },
     "execution_count": 47,
     "metadata": {},
     "output_type": "execute_result"
    }
   ],
   "source": [
    "location_group"
   ]
  },
  {
   "cell_type": "code",
   "execution_count": 48,
   "id": "ca3a1947",
   "metadata": {},
   "outputs": [
    {
     "name": "stderr",
     "output_type": "stream",
     "text": [
      "C:\\Users\\Asus\\anaconda3\\lib\\site-packages\\seaborn\\_decorators.py:36: FutureWarning: Pass the following variables as keyword args: x, y. From version 0.12, the only valid positional argument will be `data`, and passing other arguments without an explicit keyword will result in an error or misinterpretation.\n",
      "  warnings.warn(\n",
      "C:\\Users\\Asus\\anaconda3\\lib\\site-packages\\seaborn\\_decorators.py:36: FutureWarning: Pass the following variables as keyword args: x, y. From version 0.12, the only valid positional argument will be `data`, and passing other arguments without an explicit keyword will result in an error or misinterpretation.\n",
      "  warnings.warn(\n",
      "C:\\Users\\Asus\\anaconda3\\lib\\site-packages\\seaborn\\_decorators.py:36: FutureWarning: Pass the following variables as keyword args: x, y. From version 0.12, the only valid positional argument will be `data`, and passing other arguments without an explicit keyword will result in an error or misinterpretation.\n",
      "  warnings.warn(\n",
      "C:\\Users\\Asus\\anaconda3\\lib\\site-packages\\seaborn\\_decorators.py:36: FutureWarning: Pass the following variables as keyword args: x, y. From version 0.12, the only valid positional argument will be `data`, and passing other arguments without an explicit keyword will result in an error or misinterpretation.\n",
      "  warnings.warn(\n"
     ]
    },
    {
     "data": {
      "text/plain": [
       "[(0.0, 200.0)]"
      ]
     },
     "execution_count": 48,
     "metadata": {},
     "output_type": "execute_result"
    },
    {
     "data": {
      "image/png": "[encoded data removed]",
      "text/plain": [
       "<Figure size 432x288 with 1 Axes>"
      ]
     },
     "metadata": {
      "needs_background": "light"
     },
     "output_type": "display_data"
    }
   ],
   "source": [
    "labels = ['checkout','dairy','drinks','fruits','spices']\n",
    "\n",
    "for lab in labels:\n",
    "    loc = location_gby[location_gby['section'] =='%s'% lab]\n",
    "    plot = sns.lineplot(loc['hour'],loc['customer_no'], label='at %s' % lab)\n",
    "    \n",
    "plot.set(ylim=(0, 200))"
   ]
  },
  {
   "cell_type": "code",
   "execution_count": null,
   "id": "7b47a5f7",
   "metadata": {},
   "outputs": [],
   "source": []
  }
 ],
 "metadata": {
  "kernelspec": {
   "display_name": "Python 3 (ipykernel)",
   "language": "python",
   "name": "python3"
  },
  "language_info": {
   "codemirror_mode": {
    "name": "ipython",
    "version": 3
   },
   "file_extension": ".py",
   "mimetype": "text/x-python",
   "name": "python",
   "nbconvert_exporter": "python",
   "pygments_lexer": "ipython3",
   "version": "3.9.7"
  },
  "toc": {
   "base_numbering": 1,
   "nav_menu": {},
   "number_sections": true,
   "sideBar": true,
   "skip_h1_title": false,
   "title_cell": "Table of Contents",
   "title_sidebar": "Contents",
   "toc_cell": false,
   "toc_position": {
    "height": "calc(100% - 180px)",
    "left": "10px",
    "top": "150px",
    "width": "180.475px"
   },
   "toc_section_display": true,
   "toc_window_display": true
  }
 },
 "nbformat": 4,
 "nbformat_minor": 5
}
